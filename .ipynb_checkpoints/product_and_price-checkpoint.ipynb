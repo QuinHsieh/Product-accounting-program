{
 "cells": [
  {
   "cell_type": "code",
   "execution_count": null,
   "metadata": {},
   "outputs": [],
   "source": [
    "# Product 記帳程式\n",
    "\n",
    "products =[]\n",
    "\n",
    "while True:\n",
    "    name = input(\"請輸入商品名稱：\")\n",
    "    if name == \"q\":\n",
    "        break\n",
    "    price = input(\"請輸入商品價錢：\")\n",
    "    p = []\n",
    "    p.append(name)\n",
    "    p.append(price)\n",
    "    products.append(p)\n",
    "\n",
    "print(products)"
   ]
  }
 ],
 "metadata": {
  "kernelspec": {
   "display_name": "Python 3",
   "language": "python",
   "name": "python3"
  },
  "language_info": {
   "codemirror_mode": {
    "name": "ipython",
    "version": 3
   },
   "file_extension": ".py",
   "mimetype": "text/x-python",
   "name": "python",
   "nbconvert_exporter": "python",
   "pygments_lexer": "ipython3",
   "version": "3.7.3"
  }
 },
 "nbformat": 4,
 "nbformat_minor": 2
}
